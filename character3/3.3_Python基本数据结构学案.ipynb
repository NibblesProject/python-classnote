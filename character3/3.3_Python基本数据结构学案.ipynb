{
 "cells": [
  {
   "cell_type": "markdown",
   "metadata": {},
   "source": [
    "# 回顾\n",
    "\n",
    "1.下列语句不能进行赋值的是\n",
    "\n",
    "A.x, y = 3, 12　　　　B.x += 5　　　　C.x = y = 24 % 3　　　　D.x, y = 4 + 8\n",
    "\n",
    "2.下列选项中值为True的是  \n",
    "\n",
    "A.5+2==13%6 or 8!=15//2　　　　B.'ac' in 'abcd'　　　　C.23%4>=3 and \"a\"<\"A\"　　　　D.not 15//4<=8%5  \n",
    "\n",
    "3.已知变量a存储了一个整数，判断a为3的倍数或者5的倍数，写出Python表达式。"
   ]
  },
  {
   "cell_type": "markdown",
   "metadata": {},
   "source": [
    "# 3.3 Python基本数据结构\n",
    "## 3.3.1 字符串和列表（序列）\n",
    "字符串和列表都是由一些数据元素组成的一个**序列**整体。　　\n",
    "\n",
    "字符串：由0个或多个**字符**组成的序列。如：'Hello Python'、\"a1b2c3d4@#$\"　　\n",
    "\n",
    "列表：由0个或多个元素组成的序列，其中元素可以是数字、字符串等混合类型的数据，甚至是其它列表。  \n",
    "列表用方括号“[　]”表示，元素间以逗号“, ”分隔。  \n",
    "如：['abc', 17, True, \"123\", [123, 456]]"
   ]
  },
  {
   "cell_type": "code",
   "execution_count": null,
   "metadata": {},
   "outputs": [],
   "source": [
    "a = 'ashia ohoaz'\n",
    "print(len(a))   # len()函数：求字符串长度"
   ]
  },
  {
   "cell_type": "code",
   "execution_count": null,
   "metadata": {},
   "outputs": [],
   "source": [
    "a = [1, 2, 3]   # 列表的创建\n",
    "print(a * 4)"
   ]
  },
  {
   "cell_type": "code",
   "execution_count": null,
   "metadata": {},
   "outputs": [],
   "source": [
    "[1, 2, 3] + [4, 5, 6]"
   ]
  },
  {
   "cell_type": "code",
   "execution_count": null,
   "metadata": {},
   "outputs": [],
   "source": [
    "[1, 2, 3] > [2, 2, 4]"
   ]
  },
  {
   "cell_type": "code",
   "execution_count": null,
   "metadata": {},
   "outputs": [],
   "source": [
    "[1, 3] in [1, 5, 3]"
   ]
  },
  {
   "cell_type": "code",
   "execution_count": null,
   "metadata": {},
   "outputs": [],
   "source": [
    "a = [1, 2, 3]\n",
    "a.append('4')   # append()方法：在列表末尾添加新的列表项\n",
    "print(a)"
   ]
  },
  {
   "cell_type": "code",
   "execution_count": null,
   "metadata": {},
   "outputs": [],
   "source": [
    "a = list('Hello Python') # list()函数：将序列对象转换为列表类型,并返回转换后的列表\n",
    "print(a)"
   ]
  },
  {
   "attachments": {},
   "cell_type": "markdown",
   "metadata": {},
   "source": [
    "### 序列元素的引用\n",
    "引用方式：字符串对象/列表对象[索引]\n",
    "\n",
    "索引：序列中的元素都是有序的，每一个元素都带有序号，这个序号就叫做索引。　　\n",
    "\n",
    "索引有正值索引（从0开始，从前往后）和负值索引（从-1开始，从后往前）　　\n",
    "　\n",
    "\n",
    "<img src=\"attachment:image.png\" align=\"left\" width=\"800\">"
   ]
  },
  {
   "cell_type": "code",
   "execution_count": null,
   "metadata": {},
   "outputs": [],
   "source": [
    "'Hello'[1]"
   ]
  },
  {
   "cell_type": "code",
   "execution_count": null,
   "metadata": {},
   "outputs": [],
   "source": [
    "'Hello'[-4]"
   ]
  },
  {
   "cell_type": "code",
   "execution_count": null,
   "metadata": {},
   "outputs": [],
   "source": [
    "'Hello'[-6]"
   ]
  },
  {
   "cell_type": "code",
   "execution_count": null,
   "metadata": {},
   "outputs": [],
   "source": [
    "a = ['H', 'e', 'l', 'l', 'o', 1, 2, 3]\n",
    "a[0]"
   ]
  },
  {
   "cell_type": "code",
   "execution_count": null,
   "metadata": {},
   "outputs": [],
   "source": [
    "# 与字符串不同，列表的元素可以修改\n",
    "a = ['H', 'e', 'l', 'l', 'o', 1, 2, 3]\n",
    "a[0] = 'h'\n",
    "print(a)"
   ]
  },
  {
   "cell_type": "code",
   "execution_count": null,
   "metadata": {},
   "outputs": [],
   "source": [
    "a = [1, 2, 3, 4, 5]\n",
    "\n",
    "del a[0]   # del语句：删除对象\n",
    "print(a)\n",
    "\n",
    "b = a.pop(1)  # pop()方法：移除列表的某一个元素（默认最后一个元素），并返回该元素的值\n",
    "print(a, b)"
   ]
  },
  {
   "attachments": {},
   "cell_type": "markdown",
   "metadata": {},
   "source": [
    "### 序列元素的切片\n",
    "\n",
    "切片方式：序列的切片就是从序列中切分出小的子序列。\n",
    "\n",
    "切片格式：a[start:end:step]　　**左闭右开**　　参数缺省值：[0:n:1]\n",
    "\n",
    "<img src=\"attachment:image.png\" align=\"left\" width=\"600\">"
   ]
  },
  {
   "cell_type": "code",
   "execution_count": null,
   "metadata": {},
   "outputs": [],
   "source": [
    "# 以'Hello'为例，体验切片\n",
    "a = 'Hello'\n",
    "# print(a[0:3:1])\n",
    "# print(a[0:3:2])\n",
    "# print(a[2:1])\n",
    "# print(a[1:4])\n",
    "# print(a[1:4:])\n",
    "# print(a[1:5:2])\n",
    "# print(a[1::2])\n",
    "# print(a[:])\n",
    "# print(a[:4:])\n",
    "# print(a[:4])\n",
    "# print(a[3:-1:])\n",
    "# print(a[::-1])"
   ]
  },
  {
   "cell_type": "code",
   "execution_count": null,
   "metadata": {},
   "outputs": [],
   "source": [
    "a = ['H', 'e', 'l', 'l', 'o', 1, 2, 3]\n",
    "print(a[0::3])"
   ]
  },
  {
   "cell_type": "markdown",
   "metadata": {},
   "source": [
    "## 3.3.2 字典\n",
    "\n",
    "字典和列表类似，可包含多个元素。字典中的每个元素包含两部分内容：键(key)和值(value)\n",
    "\n",
    "键和值在字典中**成对**出现，键和值用**冒号**分隔，各个对之间用**逗号**分隔，所有这些都包含在花括号“{ }”中。\n",
    "\n",
    "格式：d = {key1: value1,  key2: value2, …}\n",
    "\n",
    "键通常用字符串或数值来表示，值可是任意类型的数据\n"
   ]
  },
  {
   "cell_type": "code",
   "execution_count": null,
   "metadata": {},
   "outputs": [],
   "source": [
    "# 字典对象的创建\n",
    "dic = {'1': \"张三\", 2: \"李四\", 0: \"王五\", 5: \"李华\", 1: \"小明\"}  \n",
    "# 键和值两者一 一对应，每个键只能对应一个值，且同一个字典中没有重复的键（键具有唯一性）。\n",
    "# 根据唯一的键查询对应的值\n",
    "print(dic[1])"
   ]
  },
  {
   "cell_type": "code",
   "execution_count": null,
   "metadata": {},
   "outputs": [],
   "source": [
    "dic1 = {'1': \"张三\", 2: \"李四\", 0: \"王五\", 5: \"李华\", 1: \"小明\"}  \n",
    "\n",
    "del dic1['1']\n",
    "print(dic1)\n",
    "\n",
    "dic1.pop(0)\n",
    "print(dic1)\n",
    "\n",
    "dic1[1] = 'xiaoming'\n",
    "print(dic1)\n",
    "\n",
    "dic1['2'] = '二麻子'\n",
    "print(dic1)"
   ]
  },
  {
   "cell_type": "markdown",
   "metadata": {},
   "source": [
    "### 练一练\n",
    "\n",
    "1.已知字符串st=‘HiPython’，则st[-6:8]的值为\n",
    "\n",
    "A.‘nohtyp’　　　B.‘python’　　　C.‘on’　　　 D.‘Python’\n",
    "\n",
    "\n",
    "2.已知列表a = [1, 3, 5]，b = [2, 4, 5]，则a + b的结果为\n",
    "\n",
    "A.[1,2,3,4,5] 　　　B.[1,2,3,4,5,5]\t　　　C.[1,3,5,2,4,5]　　　D.列表不能整体相加\n",
    "\n",
    "\n",
    "3.已知列表a = ['13', '233', '6']，b = ['3', '23'],则下列表达式中值为True的为\n",
    "\n",
    "A.a > b+['999']　　　B.b * 2 < a　　　C.a[2] < b[1]\t　　　D.a < b\n",
    "                                                 \n",
    "4.有列表list_1=[56, 7 ,3 ,89, 4, 2] ，要将第三个元素删除，下列语句不正确的是\n",
    "\n",
    "A.del list_1[2]　　　B.del list_1[2:3]　　　C.del list_1[3:]\t　　　D.list_1.pop(2)\n",
    "                                                 \n",
    "                                                 \n",
    "5.ch1为字符串s中的第一个字符，ch2为字符串s中的最后一个字符，用Python语言写出ch1、ch2的表达式。\n",
    "　　\n",
    "                                                 　　\n",
    "                                                 "
   ]
  }
 ],
 "metadata": {
  "kernelspec": {
   "display_name": "Python 3 (ipykernel)",
   "language": "python",
   "name": "python3"
  },
  "language_info": {
   "codemirror_mode": {
    "name": "ipython",
    "version": 3
   },
   "file_extension": ".py",
   "mimetype": "text/x-python",
   "name": "python",
   "nbconvert_exporter": "python",
   "pygments_lexer": "ipython3",
   "version": "3.9.12"
  }
 },
 "nbformat": 4,
 "nbformat_minor": 4
}
