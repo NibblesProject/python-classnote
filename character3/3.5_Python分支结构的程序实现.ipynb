{
 "cells": [
  {
   "cell_type": "markdown",
   "metadata": {},
   "source": [
    "# 3.5 Python分支结构的程序实现\n",
    "\n",
    "### 分支结构通过判断某些特定条件是否满足来决定下一步的执行流程，常见的有单分支结构、双分支结构、多分支结构。\n",
    "### 分支结构的程序实现——if语句"
   ]
  },
  {
   "cell_type": "code",
   "execution_count": null,
   "metadata": {},
   "outputs": [],
   "source": [
    "# 单分支结构\n",
    "x = 22\n",
    "y = 10\n",
    "c = 0\n",
    "if x > y:\n",
    "    c = x - y\n",
    "    # 注意在Python中对缩进有严格要求，可以根据缩进来判断语句的从属关系，一般将语句块缩进4个空格。\n",
    "print(c)"
   ]
  },
  {
   "cell_type": "code",
   "execution_count": null,
   "metadata": {},
   "outputs": [],
   "source": [
    "# 双分支结构\n",
    "x=int(input('x:'))\n",
    "y=int(input('y:'))\n",
    "if x > y:\n",
    "    print('x比较大')\n",
    "else:\n",
    "    print('y比较大')"
   ]
  },
  {
   "cell_type": "code",
   "execution_count": null,
   "metadata": {},
   "outputs": [],
   "source": [
    "# 多分支结构\n",
    "x=int(input('x:'))\n",
    "y=int(input('y:'))\n",
    "if x > y:\n",
    "    print('x比较大')\n",
    "elif x < y:\n",
    "    print('y比较大')\n",
    "else:\n",
    "    print('x、y一样大')"
   ]
  },
  {
   "cell_type": "code",
   "execution_count": null,
   "metadata": {},
   "outputs": [],
   "source": [
    "# 编写程序，输入分数（[1, 100]之间的整数），[85, 100]等第为优秀，[70, 84]等第为良好，[60, 69]等第为合格，[0, 59]等第为不合格。\n"
   ]
  },
  {
   "cell_type": "code",
   "execution_count": null,
   "metadata": {},
   "outputs": [],
   "source": [
    "# 1.有如下程序段，运行之后a、b的值分别为________、________。\n",
    "a = -1\n",
    "b = 1\n",
    "if a < b:\n",
    "    a = a + b\n",
    "    b = a - b\n",
    "    a = a - b\n",
    "print(a, b)"
   ]
  },
  {
   "cell_type": "code",
   "execution_count": null,
   "metadata": {},
   "outputs": [],
   "source": [
    "# 2.下面程序判断输入的字符串中是否包含字符“!”，请补充①处代码。\n",
    "s = input(\"请输入字符串：\")\n",
    "if ①:                        # ①补充代码\n",
    "    print(\"字符串包含!\")\n",
    "else:\n",
    "    print(\"字符串不包含!\")"
   ]
  },
  {
   "cell_type": "code",
   "execution_count": null,
   "metadata": {},
   "outputs": [],
   "source": [
    "# 3.有如下程序段，请补充剩余代码。：\n",
    "n = int(input(\"请输入一个整数：\"))\n",
    "if ①:                    # ①补充代码\n",
    "    print(\"n能同时被2、3整除\")\n",
    "elif ②:                  # ②补充代码\n",
    "    print(\"n只能被2整除\")\n",
    "elif n % 3 == 0:\n",
    "    print(\"n只能被3整除\")"
   ]
  },
  {
   "cell_type": "code",
   "execution_count": null,
   "metadata": {},
   "outputs": [],
   "source": [
    "# 4.阅读如下程序段，max的值为________。\n",
    "a = 6\n",
    "b = 18\n",
    "c = 26\n",
    "if a >= b and a >= c:\n",
    "    max = a\n",
    "elif b >= a and b >= c:\n",
    "    max = b\n",
    "elif c >= a and c >= b:\n",
    "    max = c\n",
    "print(max)"
   ]
  },
  {
   "cell_type": "code",
   "execution_count": null,
   "metadata": {},
   "outputs": [],
   "source": [
    "# 5.某Python程序如下，程序运行后，输出的结果是_________。\n",
    "x, y, z = 142, 125, 120\n",
    "res = 0\n",
    "if x > y:\n",
    "    res = x\n",
    "elif y > z:\n",
    "    res += z\n",
    "res -= 5\n",
    "print(res)"
   ]
  },
  {
   "cell_type": "code",
   "execution_count": null,
   "metadata": {},
   "outputs": [],
   "source": [
    "# 嵌套if语句（注意缩进）\n",
    "# 编写程序，输入分数（[1, 100]之间的整数），[85, 100]等第为优秀，[70, 84]等第为良好，[60, 69]等第为合格，[0, 59]等第为不合格。\n",
    "x=int(input(\"请输入分数：\"))\n",
    "if x >= 70:\n",
    "    if x>= 85:\n",
    "        print(\"优秀\")\n",
    "    else:\n",
    "        print(\"良好\")\n",
    "else:\n",
    "    if x >= 60:\n",
    "        print(\"合格\")\n",
    "    else:\n",
    "        print(\"不合格\")"
   ]
  }
 ],
 "metadata": {
  "kernelspec": {
   "display_name": "Python 3",
   "language": "python",
   "name": "python3"
  },
  "language_info": {
   "codemirror_mode": {
    "name": "ipython",
    "version": 3
   },
   "file_extension": ".py",
   "mimetype": "text/x-python",
   "name": "python",
   "nbconvert_exporter": "python",
   "pygments_lexer": "ipython3",
   "version": "3.8.3"
  }
 },
 "nbformat": 4,
 "nbformat_minor": 4
}
