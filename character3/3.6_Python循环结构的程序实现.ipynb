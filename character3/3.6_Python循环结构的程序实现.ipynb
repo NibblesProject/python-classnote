{
 "cells": [
  {
   "cell_type": "markdown",
   "metadata": {},
   "source": [
    "# 3.6 Python循环结构的程序实现\n",
    "\n",
    "\n",
    "## 3.6.1 for语句\n",
    "\n",
    "**语法格式**\n",
    "\n",
    "for <循环对象> in <序列或迭代对象>:  \n",
    "　　　　<循环体>  \n",
    "[else:  \n",
    "　　　　<else语句块>]\n",
    "    \n",
    "**执行过程**\n",
    "\n",
    "序列中的每个元素都会依次被赋值给变量，并分别执行一次循环体。\n",
    "\n",
    "当序列中的元素全部遍历完时，程序会自动退出循环，继续执行else子句中的语句块，else子句不是必需的。"
   ]
  },
  {
   "cell_type": "code",
   "execution_count": null,
   "metadata": {},
   "outputs": [],
   "source": [
    "for i in \"12345\":\n",
    "    print(\"*\")"
   ]
  },
  {
   "cell_type": "code",
   "execution_count": null,
   "metadata": {},
   "outputs": [],
   "source": [
    "for i in \"Hello\":\n",
    "    print(i)\n",
    "else:\n",
    "    print(\"over\")"
   ]
  },
  {
   "cell_type": "code",
   "execution_count": null,
   "metadata": {},
   "outputs": [],
   "source": [
    "hobby = [\"篮球\", \"羽毛球\", \"看书\", \"旅行\", \"音乐\"]\n",
    "for i in hobby:\n",
    "     print(i)"
   ]
  },
  {
   "cell_type": "code",
   "execution_count": null,
   "metadata": {},
   "outputs": [],
   "source": [
    "langs = [\"C#\", \"Java\", \"JavaScript\", \"Ruby\", \"Python\", \"clojure\", \"Go\", \"Rust\"]\n",
    "for lang in langs:\n",
    "    if len(lang) < 6:\n",
    "        print(lang)"
   ]
  },
  {
   "cell_type": "code",
   "execution_count": null,
   "metadata": {},
   "outputs": [],
   "source": [
    "langs = [\"C#\", \"Java\", \"JavaScript\", \"Ruby\", \"Python\", \"clojure\", \"Go\", \"Rust\"]\n",
    "for lang in langs:\n",
    "    if len(lang) < 6:\n",
    "        print(lang)\n",
    "    else:\n",
    "        break          # break语句：退出整个循环"
   ]
  },
  {
   "cell_type": "code",
   "execution_count": null,
   "metadata": {},
   "outputs": [],
   "source": [
    "langs = [\"C#\", \"Java\", \"JavaScript\", \"Ruby\", \"Python\", \"clojure\", \"Go\", \"Rust\"]\n",
    "lens = 0\n",
    "for lang in langs:\n",
    "    if len(lang) < 6:\n",
    "        lens = lens + len(lang)\n",
    "    else:\n",
    "        continue       # continue语句：结束本次循环，继续下一次的循环。\n",
    "    print(lens)"
   ]
  },
  {
   "cell_type": "code",
   "execution_count": null,
   "metadata": {},
   "outputs": [],
   "source": [
    "# 输出1-20的所有偶数\n"
   ]
  },
  {
   "cell_type": "markdown",
   "metadata": {},
   "source": [
    "### range函数：可创建一个整数列表，一般用在 for 循环中。\n",
    "\n",
    "**格式: range(start, end[, step])**   \n",
    "\n",
    "start: 计数从 start 开始。默认是从0开始。range(4) 相当于 range(0,4)  \n",
    "end: 计数到 end 结束，不包括 end。  \n",
    "step：步长，默认为1。\n"
   ]
  },
  {
   "cell_type": "code",
   "execution_count": null,
   "metadata": {},
   "outputs": [],
   "source": [
    "for i in range(1, 4):\n",
    "    print(i)"
   ]
  },
  {
   "cell_type": "code",
   "execution_count": null,
   "metadata": {},
   "outputs": [],
   "source": [
    "#1 2 3 4 5 6 7 8 9   =>1 4 7\n",
    "for i in range(1, 10, 3):\n",
    "    print(i, end = \" \")"
   ]
  },
  {
   "cell_type": "code",
   "execution_count": null,
   "metadata": {},
   "outputs": [],
   "source": [
    "for i in range(10, 1, -3):\n",
    "    print(i, end = \" \")"
   ]
  },
  {
   "cell_type": "code",
   "execution_count": null,
   "metadata": {},
   "outputs": [],
   "source": [
    "for i in range(10, 1, 3):\n",
    "    print(i, end = \" \")"
   ]
  },
  {
   "cell_type": "code",
   "execution_count": null,
   "metadata": {
    "scrolled": true
   },
   "outputs": [],
   "source": [
    "# 输出1-20的所有偶数\n",
    "for i in range(2, 20, 2):\n",
    "    print(i, end=\" \")"
   ]
  },
  {
   "cell_type": "code",
   "execution_count": null,
   "metadata": {},
   "outputs": [],
   "source": [
    "# 使用range函数实现计算1+2+3+4+....+20的和\n",
    "a = 0\n",
    "for i in range(1,21):\n",
    "    a += i\n",
    "print(a)"
   ]
  },
  {
   "cell_type": "markdown",
   "metadata": {},
   "source": [
    "## 3.6.2 while语句\n",
    "\n",
    "**语法格式**\n",
    "\n",
    "while <条件表达式>:  \n",
    "　　　　<循环体>  \n",
    "[else:  \n",
    "　　　　<else语句块>]\n",
    "    \n",
    "**执行过程**\n",
    "\n",
    "while循环在执行时，首先会判断条件是否为真，如果条件为真，执行一次循环体，再次判断条件是否为真，如果仍为真，那么再执行一次循环体，以此类推，直到条件为假时退出while语句或者执行else子句中的语句块，else子句不是必需的。\n",
    "\n",
    "注意：while循环语句必须控制循环能够在有限步骤内结束，否则将进入死循环。"
   ]
  },
  {
   "cell_type": "code",
   "execution_count": null,
   "metadata": {},
   "outputs": [],
   "source": [
    "i = 1\n",
    "s = 0\n",
    "while i <= 20:\n",
    "    s = s + i\n",
    "    i = i + 1\n",
    "print(s, i)"
   ]
  },
  {
   "cell_type": "code",
   "execution_count": null,
   "metadata": {},
   "outputs": [],
   "source": [
    "x = 5\n",
    "while x != 0:\n",
    "    print(x)\n",
    "    x = x - 1"
   ]
  },
  {
   "cell_type": "markdown",
   "metadata": {},
   "source": [
    "**for语句与while语句的区别、适用情况**\n",
    "\n",
    "for语句是在一个序列上循环，并通过序列的元素数量来控制循环次数，因此在循环次数明确的情况下使用for语句比较方便。\n",
    "\n",
    "while语句需要每次判断循环条件是否成立，适用于循环次数未知，但循环结束条件已知的情况。"
   ]
  },
  {
   "cell_type": "code",
   "execution_count": null,
   "metadata": {},
   "outputs": [],
   "source": [
    "# 循环嵌套语句\n",
    "for i in range(1, 10):\n",
    "    for j in range(1, 10):\n",
    "        print(i, \"×\", j, \"=\", i*j, end = \"\\t\")\n",
    "    print(\"\\n\")"
   ]
  },
  {
   "cell_type": "code",
   "execution_count": null,
   "metadata": {},
   "outputs": [],
   "source": [
    "# 猜数游戏\n",
    "number = 55\n",
    "flag = False\n",
    "while flag == False:\n",
    "    x = int(input(\"请输入猜测的数：\"))\n",
    "    if x == number:\n",
    "        print(\"正确\")\n",
    "        flag = True\n",
    "    elif x > number:\n",
    "        print(\"偏大\")\n",
    "    else:\n",
    "        print(\"偏小\")"
   ]
  }
 ],
 "metadata": {
  "kernelspec": {
   "display_name": "Python 3 (ipykernel)",
   "language": "python",
   "name": "python3"
  },
  "language_info": {
   "codemirror_mode": {
    "name": "ipython",
    "version": 3
   },
   "file_extension": ".py",
   "mimetype": "text/x-python",
   "name": "python",
   "nbconvert_exporter": "python",
   "pygments_lexer": "ipython3",
   "version": "3.9.12"
  }
 },
 "nbformat": 4,
 "nbformat_minor": 4
}
