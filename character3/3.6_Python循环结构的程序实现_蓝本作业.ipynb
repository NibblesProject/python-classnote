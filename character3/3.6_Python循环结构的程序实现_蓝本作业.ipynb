{
 "cells": [
  {
   "cell_type": "markdown",
   "id": "c18efae1",
   "metadata": {},
   "source": [
    "## 练习A 基础知识，学业测评"
   ]
  },
  {
   "cell_type": "code",
   "execution_count": null,
   "id": "981a328b",
   "metadata": {},
   "outputs": [],
   "source": [
    "#2\n",
    "for i in range(1,8):\n",
    "    print(i,end=\",\")"
   ]
  },
  {
   "cell_type": "code",
   "execution_count": null,
   "id": "d12f2916",
   "metadata": {},
   "outputs": [],
   "source": [
    "#3\n",
    "s=0\n",
    "n=100\n",
    "while True:\n",
    "    s+=n\n",
    "    if s>300:\n",
    "        break\n",
    "    n-=10\n",
    "print(n,s)"
   ]
  },
  {
   "cell_type": "code",
   "execution_count": null,
   "id": "05ef3834",
   "metadata": {},
   "outputs": [],
   "source": [
    "#4\n",
    "s=0\n",
    "for i in range(1,50,2):\n",
    "    s+=i\n",
    "print(s)"
   ]
  },
  {
   "cell_type": "code",
   "execution_count": null,
   "id": "bd991534",
   "metadata": {},
   "outputs": [],
   "source": [
    "#5\n",
    "s=[\"a\",\"p\",\"g\",\"k\"]\n",
    "i=0\n",
    "for xx in s:\n",
    "    i+=ord(xx)-ord(\"b\")+1\n",
    "print(i)"
   ]
  },
  {
   "cell_type": "code",
   "execution_count": null,
   "id": "dfd8e856",
   "metadata": {},
   "outputs": [],
   "source": [
    "#6\n",
    "s=0\n",
    "for i in range(1,10):\n",
    "    s+=i\n",
    "    if s>=50:\n",
    "        break\n",
    "print(i,s)"
   ]
  },
  {
   "cell_type": "code",
   "execution_count": null,
   "id": "2fef3b08",
   "metadata": {},
   "outputs": [],
   "source": [
    "#7\n",
    "n=int(input(\"请输入数字n（题干默认45）：\"))\n",
    "i=1\n",
    "s=0\n",
    "while i<=n:\n",
    "    if i%4==0 and i%7!=0:\n",
    "        s=s+i\n",
    "        print(i,end=\",\")\n",
    "    i=i+1\n",
    "print(\"s=\",s)"
   ]
  },
  {
   "cell_type": "code",
   "execution_count": null,
   "id": "749cb0fe",
   "metadata": {},
   "outputs": [],
   "source": [
    "#8  B ②③\n",
    "n=0\n",
    "for i in range(1,51):\n",
    "    if i%2==0 and i%5==0:\n",
    "        n+=1\n",
    "print(n)"
   ]
  },
  {
   "cell_type": "code",
   "execution_count": null,
   "id": "29970065",
   "metadata": {},
   "outputs": [],
   "source": [
    "#9\n",
    "a=[3,7,2,5,4,6,8,1]\n",
    "m=abs(a[0]-a[1])\n",
    "for i in range(2,len(a)):\n",
    "    if abs(a[i]-a[i-1])>m:\n",
    "        m=abs(a[i]-a[i-1])\n",
    "print(m)"
   ]
  },
  {
   "cell_type": "code",
   "execution_count": null,
   "id": "464ea670",
   "metadata": {},
   "outputs": [],
   "source": [
    "#10\n",
    "a=int(input(\"请输入一个数：（题干默认20）\"))\n",
    "num=0\n",
    "for i in range(1,a):\n",
    "    if a%i==0:\n",
    "        num=num+i\n",
    "print(num)"
   ]
  },
  {
   "cell_type": "code",
   "execution_count": null,
   "id": "525884d0",
   "metadata": {},
   "outputs": [],
   "source": [
    "#11\n",
    "a=[3,7,2,5,8,9,4,6,1]\n",
    "m,c=1,1\n",
    "for i in range(1,len(a)):\n",
    "    if a[i]>=a[i-1]:\n",
    "        c+=1\n",
    "        m=max(m,c)\n",
    "    else:\n",
    "        c=1\n",
    "print(c,m)"
   ]
  },
  {
   "cell_type": "code",
   "execution_count": null,
   "id": "3a3c6d00",
   "metadata": {
    "scrolled": true
   },
   "outputs": [],
   "source": [
    "#12\n",
    "s=0\n",
    "x=\"0123456789\"\n",
    "i=0\n",
    "while i<=len(x)-2:\n",
    "    t=int(x[i:i+2])\n",
    "    if t%3==0:\n",
    "        s+=t\n",
    "    i+=1\n",
    "print(i,s)"
   ]
  },
  {
   "cell_type": "markdown",
   "id": "ddd85786",
   "metadata": {},
   "source": [
    "## 练习B 综合训练，培优扩展"
   ]
  },
  {
   "cell_type": "markdown",
   "id": "d8a72334",
   "metadata": {},
   "source": [
    "Ctrl+/ 组合键可以快速取消选中部分的注释"
   ]
  },
  {
   "cell_type": "code",
   "execution_count": null,
   "id": "73974438",
   "metadata": {
    "scrolled": false
   },
   "outputs": [],
   "source": [
    "#13\n",
    "# i=1\n",
    "# while i<=5:\n",
    "#     j=1\n",
    "#     while j<i and j<=5:\n",
    "#         print(\" \",end=\"\")\n",
    "#         j+=1\n",
    "#     while j>=i and j<=5:\n",
    "#         print(\"*\",end=\"\")\n",
    "#         j+=1\n",
    "#     print() #换行输出\n",
    "#     i+=1"
   ]
  },
  {
   "cell_type": "code",
   "execution_count": null,
   "id": "4f322ebf",
   "metadata": {
    "scrolled": true
   },
   "outputs": [],
   "source": [
    "#14  测试数据：十进制的10到八进制的12\n",
    "# n=int(input(\"请输入十进制数n：\"))\n",
    "# m=n\n",
    "# s=\"\"\n",
    "# while m!=0:\n",
    "#     x=m%8\n",
    "#     s=str(x)+s\n",
    "#     m=m//8\n",
    "# print(\"转化为八进制数为：\"+s)"
   ]
  },
  {
   "cell_type": "code",
   "execution_count": null,
   "id": "8947bdf4",
   "metadata": {},
   "outputs": [],
   "source": [
    "#15 【VSCode】 测试数据：1 2 \n",
    "# st=input(\"请输入字符位置：\")\n",
    "# dict=\"This is a dictionary about python.\"\n",
    "# s=t=\"\"\n",
    "# for i in range(len(st)):\n",
    "#     ch=st[i]\n",
    "#     if ch==\" \":\n",
    "#         a=int(t)\n",
    "#         s = s + dict[a-1]\n",
    "#         t=\"\"\n",
    "#     else:\n",
    "#         t = t + ch\n",
    "# print(\"生成内容：\"+s)"
   ]
  },
  {
   "cell_type": "code",
   "execution_count": null,
   "id": "2ceb8fba",
   "metadata": {},
   "outputs": [],
   "source": [
    "#16 【VSCode】 测试密文：aa12BB3c45ddd67EE\n",
    "# s1=input(\"请输入密文：\")\n",
    "# s2=s1[0]\n",
    "# for i in range(1,len(s1)):\n",
    "#     c=s1[i]\n",
    "#     if c>=\"a\" and c<=\"z\":   #小写字母去重\n",
    "#         if c != s1[i-1]:\n",
    "#             s2=s2+c\n",
    "#     else:\n",
    "#         s2=s2+c\n",
    "# w=\"\"\n",
    "# i=3\n",
    "# while i<len(s2):\n",
    "#     w=w+s2[i]\n",
    "#     i=i+4       #每隔三个字符抽取一个\n",
    "# print(\"去重后的文本：\",s2)\n",
    "# print(\"明文\",w)"
   ]
  }
 ],
 "metadata": {
  "kernelspec": {
   "display_name": "Python 3 (ipykernel)",
   "language": "python",
   "name": "python3"
  },
  "language_info": {
   "codemirror_mode": {
    "name": "ipython",
    "version": 3
   },
   "file_extension": ".py",
   "mimetype": "text/x-python",
   "name": "python",
   "nbconvert_exporter": "python",
   "pygments_lexer": "ipython3",
   "version": "3.9.12"
  }
 },
 "nbformat": 4,
 "nbformat_minor": 5
}
